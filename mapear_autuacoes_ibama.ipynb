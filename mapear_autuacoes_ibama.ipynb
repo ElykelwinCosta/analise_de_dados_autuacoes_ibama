{
  "nbformat": 4,
  "nbformat_minor": 0,
  "metadata": {
    "colab": {
      "name": "mapear_autuacoes_ibama.ipynb",
      "provenance": [],
      "collapsed_sections": [],
      "authorship_tag": "ABX9TyOBd12vaYP9IeoqyxEAX2qI",
      "include_colab_link": true
    },
    "kernelspec": {
      "name": "python3",
      "display_name": "Python 3"
    },
    "language_info": {
      "name": "python"
    }
  },
  "cells": [
    {
      "cell_type": "markdown",
      "metadata": {
        "id": "view-in-github",
        "colab_type": "text"
      },
      "source": [
        "<a href=\"https://colab.research.google.com/github/ElykelwinCosta/mapear_autuacoes_ibama/blob/main/mapear_autuacoes_ibama.ipynb\" target=\"_parent\"><img src=\"https://colab.research.google.com/assets/colab-badge.svg\" alt=\"Open In Colab\"/></a>"
      ]
    },
    {
      "cell_type": "code",
      "metadata": {
        "id": "oTqvKJcsteWL"
      },
      "source": [
        "ta"
      ],
      "execution_count": null,
      "outputs": []
    },
    {
      "cell_type": "code",
      "metadata": {
        "id": "d6UanCaA_bIh",
        "colab": {
          "base_uri": "https://localhost:8080/"
        },
        "outputId": "09bfc4f4-0edd-4145-b710-2f079fdc01a9"
      },
      "source": [
        "'''\n",
        "O objetivo deste programa é criar um mapa que demonstre as autuações \n",
        "feitas pelo IBAMA por crimes ambientáis no Brasil.\n",
        "\n",
        "Referências:\n",
        "https://github.com/sandeco/CanalSandeco/blob/master/covid-19/Brasil%20IO%20-%20Comparando%20Estados.ipynb\n",
        "https://www.youtube.com/watch?v=rckzwVBe7gk\n",
        "https://www.achadosepedidos.org.br/pedidos/autuacoes-ambientais-204934\n",
        "\n",
        "'''\n",
        "#IMPORTS\n",
        "import pandas as pd\n",
        "import numpy as np\n",
        "import folium\n",
        "import json, requests\n",
        "\n",
        "url_json = requests.get('https://raw.githubusercontent.com/datalivre/Conjunto-de-Dados/master/br_states.json')\n",
        "text = url_json.text\n",
        "\n",
        "geo_json_data = json.loads(text)\n",
        "\n",
        "#DEFININDO DATASET GERAL - SETTING GENERAL DATASET\n",
        "url = 'https://raw.githubusercontent.com/ElykelwinCosta/mapear_autuacoes_ibama/main/17012020_17122020.csv'\n",
        "df = pd.read_csv(url, sep = ',')\n",
        "data = df[['DAT_HORA_AUTO_INFRACAO', 'VAL_AUTO_INFRACAO', 'NOM_MUNICIPIO', 'SIG_UF', 'BIOMA', 'NO_TIPO_INFRACAO', 'NUM_LONGITUDE_AUTO', 'NUM_LATITUDE_AUTO', ]]\n",
        "\n",
        "#SEPARANDO DATASET SIGLAS ESTADOS - SEPARATING DATASET ACRONYMS STATES\n",
        "estados = data[\"SIG_UF\"].unique()\n",
        "autuacoes_por_estado = data[\"SIG_UF\"].value_counts()\n",
        "\n",
        "mapa = folium.Map(\n",
        "    width = \"100%\",\n",
        "    height = \"100%\",\n",
        "    location = [-15.77972, -47.92972],\n",
        "    zoom_start = 4.2\n",
        ")\n",
        "\n",
        "'''\n",
        "folium.GeoJson(\n",
        "    geo_json_data,\n",
        "    name = \"Infrações\",\n",
        "    style_function = lambda feature: {\n",
        "        \"color\": \"balck\",\n",
        "        \"weight\": 0.9 \n",
        "    }\n",
        ").add_to(mapa)\n",
        "'''\n",
        "\n",
        "\n",
        "mapa.choropleth(\n",
        "    geo_data = geo_json_data,\n",
        "    name = \"Autuações\",\n",
        "    data = autuacoes_por_estado,\n",
        "    columns = [\"SIG_UF\", autuacoes_por_estado],\n",
        "    key_on = \"feature.id\",\n",
        "    fill_color = \"Reds\",\n",
        "    fill_opacity = 0.8,\n",
        "    line_color = \"white\",\n",
        "    line_opacity = 0.8,\n",
        "    show = True,\n",
        "    legend_name = \"AUTUAÇÕES IBAMA\"\n",
        "\n",
        ")\n",
        "\n",
        "\n",
        "\n",
        "mapa.save(\"mapa.html\")\n",
        "\n",
        "\n"
      ],
      "execution_count": 102,
      "outputs": [
        {
          "output_type": "stream",
          "name": "stderr",
          "text": [
            "/usr/local/lib/python3.7/dist-packages/folium/folium.py:426: FutureWarning: The choropleth  method has been deprecated. Instead use the new Choropleth class, which has the same arguments. See the example notebook 'GeoJSON_and_choropleth' for how to do this.\n",
            "  FutureWarning\n"
          ]
        }
      ]
    }
  ]
}