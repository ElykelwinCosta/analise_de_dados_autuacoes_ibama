{
  "nbformat": 4,
  "nbformat_minor": 0,
  "metadata": {
    "colab": {
      "name": "mapear_autuacoes_ibama.ipynb",
      "provenance": [],
      "collapsed_sections": [],
      "authorship_tag": "ABX9TyNIGOzUiYCxFZw3cy2gFSQX",
      "include_colab_link": true
    },
    "kernelspec": {
      "name": "python3",
      "display_name": "Python 3"
    },
    "language_info": {
      "name": "python"
    }
  },
  "cells": [
    {
      "cell_type": "markdown",
      "metadata": {
        "id": "view-in-github",
        "colab_type": "text"
      },
      "source": [
        "<a href=\"https://colab.research.google.com/github/ElykelwinCosta/mapear_autuacoes_ibama/blob/main/mapear_autuacoes_ibama.ipynb\" target=\"_parent\"><img src=\"https://colab.research.google.com/assets/colab-badge.svg\" alt=\"Open In Colab\"/></a>"
      ]
    },
    {
      "cell_type": "code",
      "metadata": {
        "id": "d6UanCaA_bIh"
      },
      "source": [
        "'''\n",
        "O objetivo deste programa é criar um mapa que demonstre as autuações \n",
        "feitas pelo IBAMA por crimes ambientáis no Brasil.\n",
        "\n",
        "Referências:\n",
        "https://github.com/sandeco/CanalSandeco/blob/master/covid-19/Brasil%20IO%20-%20Comparando%20Estados.ipynb\n",
        "https://www.youtube.com/watch?v=rckzwVBe7gk\n",
        "https://www.achadosepedidos.org.br/pedidos/autuacoes-ambientais-204934\n",
        "\n",
        "'''\n",
        "\n",
        "import pandas as pd\n",
        "import numpy as np\n",
        "\n",
        "url = '/content/17012020_17122020.csv'\n",
        "df = pd.read_csv(url)\n",
        "\n",
        "data = df[['SIG_UF', 'BIOMA']]\n",
        "data\n"
      ],
      "execution_count": null,
      "outputs": []
    }
  ]
}