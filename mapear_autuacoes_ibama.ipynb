{
  "nbformat": 4,
  "nbformat_minor": 0,
  "metadata": {
    "colab": {
      "name": "mapear_autuacoes_ibama.ipynb",
      "provenance": [],
      "collapsed_sections": [],
      "authorship_tag": "ABX9TyPxkkUenXZSyDa7eb5MRaHC",
      "include_colab_link": true
    },
    "kernelspec": {
      "name": "python3",
      "display_name": "Python 3"
    },
    "language_info": {
      "name": "python"
    }
  },
  "cells": [
    {
      "cell_type": "markdown",
      "metadata": {
        "id": "view-in-github",
        "colab_type": "text"
      },
      "source": [
        "<a href=\"https://colab.research.google.com/github/ElykelwinCosta/mapear_autuacoes_ibama/blob/main/mapear_autuacoes_ibama.ipynb\" target=\"_parent\"><img src=\"https://colab.research.google.com/assets/colab-badge.svg\" alt=\"Open In Colab\"/></a>"
      ]
    },
    {
      "cell_type": "code",
      "metadata": {
        "id": "d6UanCaA_bIh",
        "colab": {
          "base_uri": "https://localhost:8080/",
          "height": 419
        },
        "outputId": "60452c3e-6091-4187-ef1a-060c5ca0ddea"
      },
      "source": [
        "'''\n",
        "O objetivo deste programa é criar um mapa que demonstre as autuações \n",
        "feitas pelo IBAMA por crimes ambientáis no Brasil.\n",
        "\n",
        "Referências:\n",
        "https://github.com/sandeco/CanalSandeco/blob/master/covid-19/Brasil%20IO%20-%20Comparando%20Estados.ipynb\n",
        "https://www.youtube.com/watch?v=rckzwVBe7gk\n",
        "https://www.achadosepedidos.org.br/pedidos/autuacoes-ambientais-204934\n",
        "\n",
        "'''\n",
        "\n",
        "import pandas as pd\n",
        "import numpy as np\n",
        "\n",
        "url = '/content/Database/17012020_17122020.csv'\n",
        "df = pd.read_csv(url)\n",
        "\n",
        "data = df[['SIG_UF', 'BIOMA']]\n",
        "data\n"
      ],
      "execution_count": 3,
      "outputs": [
        {
          "output_type": "execute_result",
          "data": {
            "text/html": [
              "<div>\n",
              "<style scoped>\n",
              "    .dataframe tbody tr th:only-of-type {\n",
              "        vertical-align: middle;\n",
              "    }\n",
              "\n",
              "    .dataframe tbody tr th {\n",
              "        vertical-align: top;\n",
              "    }\n",
              "\n",
              "    .dataframe thead th {\n",
              "        text-align: right;\n",
              "    }\n",
              "</style>\n",
              "<table border=\"1\" class=\"dataframe\">\n",
              "  <thead>\n",
              "    <tr style=\"text-align: right;\">\n",
              "      <th></th>\n",
              "      <th>SIG_UF</th>\n",
              "      <th>BIOMA</th>\n",
              "    </tr>\n",
              "  </thead>\n",
              "  <tbody>\n",
              "    <tr>\n",
              "      <th>0</th>\n",
              "      <td>RR</td>\n",
              "      <td>Amazonia</td>\n",
              "    </tr>\n",
              "    <tr>\n",
              "      <th>1</th>\n",
              "      <td>SP</td>\n",
              "      <td>Mata Atlantica</td>\n",
              "    </tr>\n",
              "    <tr>\n",
              "      <th>2</th>\n",
              "      <td>CE</td>\n",
              "      <td>Costeiro e Marinho</td>\n",
              "    </tr>\n",
              "    <tr>\n",
              "      <th>3</th>\n",
              "      <td>GO</td>\n",
              "      <td>Amazonia</td>\n",
              "    </tr>\n",
              "    <tr>\n",
              "      <th>4</th>\n",
              "      <td>RS</td>\n",
              "      <td>Pampa</td>\n",
              "    </tr>\n",
              "    <tr>\n",
              "      <th>...</th>\n",
              "      <td>...</td>\n",
              "      <td>...</td>\n",
              "    </tr>\n",
              "    <tr>\n",
              "      <th>9052</th>\n",
              "      <td>CE</td>\n",
              "      <td>Caatinga</td>\n",
              "    </tr>\n",
              "    <tr>\n",
              "      <th>9053</th>\n",
              "      <td>MT</td>\n",
              "      <td>Cerrado</td>\n",
              "    </tr>\n",
              "    <tr>\n",
              "      <th>9054</th>\n",
              "      <td>MG</td>\n",
              "      <td>Cerrado</td>\n",
              "    </tr>\n",
              "    <tr>\n",
              "      <th>9055</th>\n",
              "      <td>CE</td>\n",
              "      <td>Costeiro e Marinho</td>\n",
              "    </tr>\n",
              "    <tr>\n",
              "      <th>9056</th>\n",
              "      <td>PB</td>\n",
              "      <td>Amazonia</td>\n",
              "    </tr>\n",
              "  </tbody>\n",
              "</table>\n",
              "<p>9057 rows × 2 columns</p>\n",
              "</div>"
            ],
            "text/plain": [
              "     SIG_UF               BIOMA\n",
              "0        RR            Amazonia\n",
              "1        SP      Mata Atlantica\n",
              "2        CE  Costeiro e Marinho\n",
              "3        GO            Amazonia\n",
              "4        RS               Pampa\n",
              "...     ...                 ...\n",
              "9052     CE            Caatinga\n",
              "9053     MT             Cerrado\n",
              "9054     MG             Cerrado\n",
              "9055     CE  Costeiro e Marinho\n",
              "9056     PB            Amazonia\n",
              "\n",
              "[9057 rows x 2 columns]"
            ]
          },
          "metadata": {},
          "execution_count": 3
        }
      ]
    }
  ]
}