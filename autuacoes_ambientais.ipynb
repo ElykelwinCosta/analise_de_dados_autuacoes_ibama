{
  "nbformat": 4,
  "nbformat_minor": 0,
  "metadata": {
    "colab": {
      "name": "autuacoes-ambientais.ipynb",
      "provenance": [],
      "collapsed_sections": [],
      "include_colab_link": true
    },
    "kernelspec": {
      "name": "python3",
      "display_name": "Python 3"
    },
    "language_info": {
      "name": "python"
    }
  },
  "cells": [
    {
      "cell_type": "markdown",
      "metadata": {
        "id": "view-in-github",
        "colab_type": "text"
      },
      "source": [
        "<a href=\"https://colab.research.google.com/github/ElykelwinCosta/mapear_autuacoes_ibama/blob/main/autuacoes_ambientais.ipynb\" target=\"_parent\"><img src=\"https://colab.research.google.com/assets/colab-badge.svg\" alt=\"Open In Colab\"/></a>"
      ]
    },
    {
      "cell_type": "code",
      "metadata": {
        "id": "P9cLCJHvtCou"
      },
      "source": [
        "import pandas as pd"
      ],
      "execution_count": 1,
      "outputs": []
    },
    {
      "cell_type": "code",
      "metadata": {
        "id": "1j0LLL4RtK9g"
      },
      "source": [
        "dados_2019 = 'https://github.com/mirianbatista/autuacoes/blob/master/%5B1%5D-10147957_Planilha_AIs_de_08_10_19_a_31_12_19_SIC_5210_21.xlsx?raw=true'\n",
        "dados_2020 = 'https://github.com/mirianbatista/autuacoes/blob/master/%5B2%5D-10147975_Planilha_AIs_2020_SIC_5210_21.xlsx?raw=true'\n",
        "dados_2021 = 'https://github.com/mirianbatista/autuacoes/blob/master/%5B3%5D-10147989_Planilha_AIs_2021_SIC_5210_21.xlsx?raw=true'"
      ],
      "execution_count": 2,
      "outputs": []
    },
    {
      "cell_type": "code",
      "metadata": {
        "id": "YK8kV-WVtU7_"
      },
      "source": [
        "dados2019 = pd.read_excel(dados_2019)\n",
        "dados2020 = pd.read_excel(dados_2020)\n",
        "dados2021 = pd.read_excel(dados_2021)"
      ],
      "execution_count": 3,
      "outputs": []
    },
    {
      "cell_type": "code",
      "metadata": {
        "id": "W7eqKo9j7-Je",
        "colab": {
          "base_uri": "https://localhost:8080/"
        },
        "outputId": "4c8fa83b-9afd-46bf-eb23-4f760aaa2a28"
      },
      "source": [
        "dfs = [dados2019, dados2020, dados2021]\n",
        "autuacoes = pd.concat(dfs)\n",
        "autuacoes.info()"
      ],
      "execution_count": 4,
      "outputs": [
        {
          "output_type": "stream",
          "name": "stdout",
          "text": [
            "<class 'pandas.core.frame.DataFrame'>\n",
            "Int64Index: 11953 entries, 0 to 774\n",
            "Data columns (total 46 columns):\n",
            " #   Column                         Non-Null Count  Dtype  \n",
            "---  ------                         --------------  -----  \n",
            " 0   SEQ_AUTO_INFRACAO              8210 non-null   float64\n",
            " 1   REGISTRADO_SICAFI              11953 non-null  object \n",
            " 2   DES_STATUS_FORMULARIO          11953 non-null  object \n",
            " 3   SIT_CANCELADO                  8501 non-null   object \n",
            " 4   NUM_AUTO_INFRACAO              11953 non-null  object \n",
            " 5   SER_AUTO_INFRACAO              17 non-null     object \n",
            " 6   TIPO_AUTO                      11743 non-null  object \n",
            " 7   TIPO_MULTA                     11921 non-null  object \n",
            " 8   VAL_AUTO_INFRACAO              11831 non-null  float64\n",
            " 9   PATRIMONIO_APURACAO            4 non-null      object \n",
            " 10  GRAVIDADE_INFRACAO             1701 non-null   object \n",
            " 11  UNID_ARRECADACAO               8203 non-null   object \n",
            " 12  DES_AUTO_INFRACAO              11861 non-null  object \n",
            " 13  DES_RECEITA                    11953 non-null  object \n",
            " 14  NO_TIPO_INFRACAO               11886 non-null  object \n",
            " 15  DAT_HORA_AUTO_INFRACAO         11953 non-null  object \n",
            " 16  FORMA_ENTREGA                  11819 non-null  object \n",
            " 17  DAT_CIENCIA_AUTUACAO           5559 non-null   object \n",
            " 18  DS_CONCILIACAO_UNIDADE         9784 non-null   object \n",
            " 19  COD_MUNICIPIO                  11934 non-null  float64\n",
            " 20  NOM_MUNICIPIO                  11934 non-null  object \n",
            " 21  SIG_UF                         11934 non-null  object \n",
            " 22  BIOMA                          11944 non-null  object \n",
            " 23  UNIDADE_CONSERVACAO            89 non-null     object \n",
            " 24  NUM_PROCESSO                   8152 non-null   float64\n",
            " 25  DES_INFRACAO                   11827 non-null  object \n",
            " 26  NOME_INFRATOR                  11927 non-null  object \n",
            " 27  CPF_CNPJ_INFRATOR              11883 non-null  object \n",
            " 28  QTD_AREA                       92 non-null     float64\n",
            " 29  INFRACAO_AREA                  4381 non-null   object \n",
            " 30  DES_OUTROS_TIPO_AREA           0 non-null      float64\n",
            " 31  NUM_LONGITUDE_AUTO             11917 non-null  float64\n",
            " 32  NUM_LATITUDE_AUTO              11922 non-null  float64\n",
            " 33  DES_LOCAL_INFRACAO             11930 non-null  object \n",
            " 34  SEQ_NOTIFICACAO                52 non-null     float64\n",
            " 35  UNID_CONTROLE                  11738 non-null  object \n",
            " 36  NOM_OPERACAO                   125 non-null    object \n",
            " 37  DES_TIPO_OPERACAO              8205 non-null   object \n",
            " 38  DS_ORGAO                       11700 non-null  object \n",
            " 39  OPERACAO_SOL_RECURSO           11143 non-null  object \n",
            " 40  DAT_LANCAMENTO                 8210 non-null   object \n",
            " 41  DAT_ALTERACAO                  11951 non-null  object \n",
            " 42  DES_TIPO_HISTORICO_FORMULARIO  8208 non-null   object \n",
            " 43  ENQUADRAMENTO                  11932 non-null  object \n",
            " 44  ENQUADRAMENTO_COMPLEMENTAR     2907 non-null   object \n",
            " 45  DAT_ULTIMA_ATUALIZACAO         11953 non-null  object \n",
            "dtypes: float64(9), object(37)\n",
            "memory usage: 4.3+ MB\n"
          ]
        }
      ]
    },
    {
      "cell_type": "code",
      "metadata": {
        "colab": {
          "base_uri": "https://localhost:8080/",
          "height": 472
        },
        "id": "Sq78Zffg_eTJ",
        "outputId": "5a105bdf-5fd9-424d-d513-c588d3e60129"
      },
      "source": [
        "autuacoes.head()"
      ],
      "execution_count": 5,
      "outputs": [
        {
          "output_type": "execute_result",
          "data": {
            "text/html": [
              "<div>\n",
              "<style scoped>\n",
              "    .dataframe tbody tr th:only-of-type {\n",
              "        vertical-align: middle;\n",
              "    }\n",
              "\n",
              "    .dataframe tbody tr th {\n",
              "        vertical-align: top;\n",
              "    }\n",
              "\n",
              "    .dataframe thead th {\n",
              "        text-align: right;\n",
              "    }\n",
              "</style>\n",
              "<table border=\"1\" class=\"dataframe\">\n",
              "  <thead>\n",
              "    <tr style=\"text-align: right;\">\n",
              "      <th></th>\n",
              "      <th>SEQ_AUTO_INFRACAO</th>\n",
              "      <th>REGISTRADO_SICAFI</th>\n",
              "      <th>DES_STATUS_FORMULARIO</th>\n",
              "      <th>SIT_CANCELADO</th>\n",
              "      <th>NUM_AUTO_INFRACAO</th>\n",
              "      <th>SER_AUTO_INFRACAO</th>\n",
              "      <th>TIPO_AUTO</th>\n",
              "      <th>TIPO_MULTA</th>\n",
              "      <th>VAL_AUTO_INFRACAO</th>\n",
              "      <th>PATRIMONIO_APURACAO</th>\n",
              "      <th>GRAVIDADE_INFRACAO</th>\n",
              "      <th>UNID_ARRECADACAO</th>\n",
              "      <th>DES_AUTO_INFRACAO</th>\n",
              "      <th>DES_RECEITA</th>\n",
              "      <th>NO_TIPO_INFRACAO</th>\n",
              "      <th>DAT_HORA_AUTO_INFRACAO</th>\n",
              "      <th>FORMA_ENTREGA</th>\n",
              "      <th>DAT_CIENCIA_AUTUACAO</th>\n",
              "      <th>DS_CONCILIACAO_UNIDADE</th>\n",
              "      <th>COD_MUNICIPIO</th>\n",
              "      <th>NOM_MUNICIPIO</th>\n",
              "      <th>SIG_UF</th>\n",
              "      <th>BIOMA</th>\n",
              "      <th>UNIDADE_CONSERVACAO</th>\n",
              "      <th>NUM_PROCESSO</th>\n",
              "      <th>DES_INFRACAO</th>\n",
              "      <th>NOME_INFRATOR</th>\n",
              "      <th>CPF_CNPJ_INFRATOR</th>\n",
              "      <th>QTD_AREA</th>\n",
              "      <th>INFRACAO_AREA</th>\n",
              "      <th>DES_OUTROS_TIPO_AREA</th>\n",
              "      <th>NUM_LONGITUDE_AUTO</th>\n",
              "      <th>NUM_LATITUDE_AUTO</th>\n",
              "      <th>DES_LOCAL_INFRACAO</th>\n",
              "      <th>SEQ_NOTIFICACAO</th>\n",
              "      <th>UNID_CONTROLE</th>\n",
              "      <th>NOM_OPERACAO</th>\n",
              "      <th>DES_TIPO_OPERACAO</th>\n",
              "      <th>DS_ORGAO</th>\n",
              "      <th>OPERACAO_SOL_RECURSO</th>\n",
              "      <th>DAT_LANCAMENTO</th>\n",
              "      <th>DAT_ALTERACAO</th>\n",
              "      <th>DES_TIPO_HISTORICO_FORMULARIO</th>\n",
              "      <th>ENQUADRAMENTO</th>\n",
              "      <th>ENQUADRAMENTO_COMPLEMENTAR</th>\n",
              "      <th>DAT_ULTIMA_ATUALIZACAO</th>\n",
              "    </tr>\n",
              "  </thead>\n",
              "  <tbody>\n",
              "    <tr>\n",
              "      <th>0</th>\n",
              "      <td>NaN</td>\n",
              "      <td>N</td>\n",
              "      <td>Impresso</td>\n",
              "      <td>NaN</td>\n",
              "      <td>E1CTE6RS</td>\n",
              "      <td>NaN</td>\n",
              "      <td>Multa Simples</td>\n",
              "      <td>Aberta</td>\n",
              "      <td>3600.0</td>\n",
              "      <td>NaN</td>\n",
              "      <td>Baixa</td>\n",
              "      <td>NaN</td>\n",
              "      <td>Importar 30 (trinta) indivíduos da espécie Chr...</td>\n",
              "      <td>Penalidade pecuniária - Pesca</td>\n",
              "      <td>Pesca</td>\n",
              "      <td>2019-12-31 13:29:37</td>\n",
              "      <td>Representante</td>\n",
              "      <td>NaT</td>\n",
              "      <td>Núcleo de Conciliação Ambiental/SP 2</td>\n",
              "      <td>3518800.0</td>\n",
              "      <td>Guarulhos</td>\n",
              "      <td>SP</td>\n",
              "      <td>Mata Atlantica</td>\n",
              "      <td>NaN</td>\n",
              "      <td>NaN</td>\n",
              "      <td>Infração de pesca(Não Classificada-Móvel)</td>\n",
              "      <td>AQUARIOCA PRODUTOS AQUATICOS LTDA</td>\n",
              "      <td>21562031000106</td>\n",
              "      <td>NaN</td>\n",
              "      <td>Não se aplica</td>\n",
              "      <td>NaN</td>\n",
              "      <td>-46.487499</td>\n",
              "      <td>-23.425554</td>\n",
              "      <td>Terminal de Cargas (TECA) do Aeroporto Interna...</td>\n",
              "      <td>NaN</td>\n",
              "      <td>SP/SUPES</td>\n",
              "      <td>NaN</td>\n",
              "      <td>NaN</td>\n",
              "      <td>IBAMA</td>\n",
              "      <td>NaN</td>\n",
              "      <td>NaT</td>\n",
              "      <td>2020-08-06 17:27:12</td>\n",
              "      <td>NaN</td>\n",
              "      <td>38 Decreto 6514; 70 1º Lei 9605; 72 Lei 9605; ...</td>\n",
              "      <td>NaN</td>\n",
              "      <td>2021-03-14 22:20:47</td>\n",
              "    </tr>\n",
              "    <tr>\n",
              "      <th>1</th>\n",
              "      <td>2036188.0</td>\n",
              "      <td>S</td>\n",
              "      <td>Lavrado</td>\n",
              "      <td>N</td>\n",
              "      <td>BN4GBUAS</td>\n",
              "      <td>NaN</td>\n",
              "      <td>Multa simples</td>\n",
              "      <td>Aberta</td>\n",
              "      <td>1500.0</td>\n",
              "      <td>NaN</td>\n",
              "      <td>NaN</td>\n",
              "      <td>SP/SUPES</td>\n",
              "      <td>Inserir informação falsa ou enganosa em sistem...</td>\n",
              "      <td>Penalidade pecuniária - Outras</td>\n",
              "      <td>Administração Ambiental</td>\n",
              "      <td>2019-12-31 12:00:00</td>\n",
              "      <td>Correios</td>\n",
              "      <td>2020-01-17 00:00:00</td>\n",
              "      <td>Núcleo de Conciliação Ambiental/SP 2</td>\n",
              "      <td>3536802.0</td>\n",
              "      <td>Pedra Bela</td>\n",
              "      <td>SP</td>\n",
              "      <td>Mata Atlantica</td>\n",
              "      <td>NaN</td>\n",
              "      <td>2.027001e+15</td>\n",
              "      <td>Infração de Administração Ambiental(Não Classi...</td>\n",
              "      <td>CEZAR XAVIER DE OLIVEIRA</td>\n",
              "      <td>***212798**</td>\n",
              "      <td>NaN</td>\n",
              "      <td>NaN</td>\n",
              "      <td>NaN</td>\n",
              "      <td>-46.668335</td>\n",
              "      <td>-23.559721</td>\n",
              "      <td>Rua dos Limas 06</td>\n",
              "      <td>NaN</td>\n",
              "      <td>SP/SUPES</td>\n",
              "      <td>NaN</td>\n",
              "      <td>Operação</td>\n",
              "      <td>NaN</td>\n",
              "      <td>NaN</td>\n",
              "      <td>2020-04-17 00:00:00</td>\n",
              "      <td>2020-04-17 17:06:14</td>\n",
              "      <td>Preenchido</td>\n",
              "      <td>82 Decreto 6514/2008.</td>\n",
              "      <td>34, Parágrafo 5 IN 10/2011.</td>\n",
              "      <td>2021-03-14 22:20:47</td>\n",
              "    </tr>\n",
              "    <tr>\n",
              "      <th>2</th>\n",
              "      <td>2039240.0</td>\n",
              "      <td>S</td>\n",
              "      <td>Lavrado</td>\n",
              "      <td>N</td>\n",
              "      <td>PML3IR96</td>\n",
              "      <td>NaN</td>\n",
              "      <td>Multa simples</td>\n",
              "      <td>Aberta</td>\n",
              "      <td>19000.0</td>\n",
              "      <td>NaN</td>\n",
              "      <td>NaN</td>\n",
              "      <td>SP/SUPES</td>\n",
              "      <td>Inserir informação falsa ou enganosa em sistem...</td>\n",
              "      <td>Penalidade pecuniária - Outras</td>\n",
              "      <td>Administração Ambiental</td>\n",
              "      <td>2019-12-31 12:00:00</td>\n",
              "      <td>Correios</td>\n",
              "      <td>2020-01-16 00:00:00</td>\n",
              "      <td>Núcleo de Conciliação Ambiental/SP 2</td>\n",
              "      <td>3530607.0</td>\n",
              "      <td>Mogi das Cruzes</td>\n",
              "      <td>SP</td>\n",
              "      <td>Mata Atlantica</td>\n",
              "      <td>NaN</td>\n",
              "      <td>2.027002e+15</td>\n",
              "      <td>Infração de Administração Ambiental(Não Classi...</td>\n",
              "      <td>FUAD CARAM NETO</td>\n",
              "      <td>***167808**</td>\n",
              "      <td>NaN</td>\n",
              "      <td>NaN</td>\n",
              "      <td>NaN</td>\n",
              "      <td>-46.668335</td>\n",
              "      <td>-23.559721</td>\n",
              "      <td>Rua Arujá, 216</td>\n",
              "      <td>NaN</td>\n",
              "      <td>SP/SUPES</td>\n",
              "      <td>NaN</td>\n",
              "      <td>Operação</td>\n",
              "      <td>IBAMA</td>\n",
              "      <td>NaN</td>\n",
              "      <td>2020-08-14 00:00:00</td>\n",
              "      <td>2020-08-14 10:20:22</td>\n",
              "      <td>Preenchido</td>\n",
              "      <td>82 Decreto 6514/2008.</td>\n",
              "      <td>35, Parágrafo 2 IN 10/2011.</td>\n",
              "      <td>2021-03-14 22:20:47</td>\n",
              "    </tr>\n",
              "    <tr>\n",
              "      <th>3</th>\n",
              "      <td>2041283.0</td>\n",
              "      <td>S</td>\n",
              "      <td>Cancelado</td>\n",
              "      <td>S</td>\n",
              "      <td>3YDZ962G</td>\n",
              "      <td>NaN</td>\n",
              "      <td>Multa simples</td>\n",
              "      <td>Aberta</td>\n",
              "      <td>1500.0</td>\n",
              "      <td>NaN</td>\n",
              "      <td>NaN</td>\n",
              "      <td>SP/SUPES</td>\n",
              "      <td>Inserir informação falsa ou enganosa em sistem...</td>\n",
              "      <td>Penalidade pecuniária - Outras</td>\n",
              "      <td>Administração Ambiental</td>\n",
              "      <td>2019-12-31 12:00:00</td>\n",
              "      <td>Correios</td>\n",
              "      <td>2020-01-16 00:00:00</td>\n",
              "      <td>Núcleo de Conciliação Ambiental/SP 2</td>\n",
              "      <td>3530607.0</td>\n",
              "      <td>Mogi das Cruzes</td>\n",
              "      <td>SP</td>\n",
              "      <td>Mata Atlantica</td>\n",
              "      <td>NaN</td>\n",
              "      <td>2.027002e+15</td>\n",
              "      <td>Infração de Administração Ambiental(Não Classi...</td>\n",
              "      <td>FUAD CARAM NETO</td>\n",
              "      <td>***167808**</td>\n",
              "      <td>NaN</td>\n",
              "      <td>NaN</td>\n",
              "      <td>NaN</td>\n",
              "      <td>-46.668335</td>\n",
              "      <td>-23.559721</td>\n",
              "      <td>Rua Arujá, 216</td>\n",
              "      <td>NaN</td>\n",
              "      <td>SP/SUPES</td>\n",
              "      <td>NaN</td>\n",
              "      <td>Operação</td>\n",
              "      <td>IBAMA</td>\n",
              "      <td>NaN</td>\n",
              "      <td>2020-11-24 00:00:00</td>\n",
              "      <td>2021-02-02 17:24:30</td>\n",
              "      <td>Cancelado</td>\n",
              "      <td>82 Decreto 6514/2008.</td>\n",
              "      <td>35, Parágrafo 2 IN 10/2011.</td>\n",
              "      <td>2021-03-14 22:20:47</td>\n",
              "    </tr>\n",
              "    <tr>\n",
              "      <th>4</th>\n",
              "      <td>NaN</td>\n",
              "      <td>N</td>\n",
              "      <td>Impresso</td>\n",
              "      <td>NaN</td>\n",
              "      <td>25S7EF8C</td>\n",
              "      <td>NaN</td>\n",
              "      <td>Multa Simples</td>\n",
              "      <td>Fechada</td>\n",
              "      <td>1500.0</td>\n",
              "      <td>NaN</td>\n",
              "      <td>NaN</td>\n",
              "      <td>NaN</td>\n",
              "      <td>Utilizar três espécimes da fauna silvestre em ...</td>\n",
              "      <td>Penalidade pecuniária - Fauna</td>\n",
              "      <td>Fauna</td>\n",
              "      <td>2019-12-30 17:01:07</td>\n",
              "      <td>Correios</td>\n",
              "      <td>2019-12-30 00:00:00</td>\n",
              "      <td>Núcleo de Conciliação Ambiental/SP 2</td>\n",
              "      <td>3509502.0</td>\n",
              "      <td>Campinas</td>\n",
              "      <td>SP</td>\n",
              "      <td>Mata Atlantica</td>\n",
              "      <td>NaN</td>\n",
              "      <td>NaN</td>\n",
              "      <td>Infração da Fauna(Não Classificada-Móvel)</td>\n",
              "      <td>JOÃO ESLEN LIMA BARRETO</td>\n",
              "      <td>***745248**</td>\n",
              "      <td>NaN</td>\n",
              "      <td>Não se aplica</td>\n",
              "      <td>NaN</td>\n",
              "      <td>-47.144169</td>\n",
              "      <td>-23.007778</td>\n",
              "      <td>Criador amador de passeriformes João Esley Lim...</td>\n",
              "      <td>NaN</td>\n",
              "      <td>VIRACOPOS/UNID_TEC</td>\n",
              "      <td>NaN</td>\n",
              "      <td>NaN</td>\n",
              "      <td>IBAMA</td>\n",
              "      <td>OPERAÇÃO COMÉRCIO EXTERIOR</td>\n",
              "      <td>NaT</td>\n",
              "      <td>2019-12-30 17:18:46</td>\n",
              "      <td>NaN</td>\n",
              "      <td>24 I Decreto 6514; 70 1º Lei 9605; 72 Lei 9605...</td>\n",
              "      <td>36, III IN Ibama 10/2011.</td>\n",
              "      <td>2021-03-14 22:20:47</td>\n",
              "    </tr>\n",
              "  </tbody>\n",
              "</table>\n",
              "</div>"
            ],
            "text/plain": [
              "   SEQ_AUTO_INFRACAO  ... DAT_ULTIMA_ATUALIZACAO\n",
              "0                NaN  ...    2021-03-14 22:20:47\n",
              "1          2036188.0  ...    2021-03-14 22:20:47\n",
              "2          2039240.0  ...    2021-03-14 22:20:47\n",
              "3          2041283.0  ...    2021-03-14 22:20:47\n",
              "4                NaN  ...    2021-03-14 22:20:47\n",
              "\n",
              "[5 rows x 46 columns]"
            ]
          },
          "metadata": {},
          "execution_count": 5
        }
      ]
    },
    {
      "cell_type": "markdown",
      "metadata": {
        "id": "9mjkY8QNkfum"
      },
      "source": [
        "\n",
        "\n",
        "## **Valores recebidos por estado**\n",
        "\n"
      ]
    },
    {
      "cell_type": "code",
      "metadata": {
        "colab": {
          "base_uri": "https://localhost:8080/",
          "height": 907
        },
        "id": "CRuSjuN4rqRD",
        "outputId": "79518b76-87a7-4675-8628-19d57a62d9dc"
      },
      "source": [
        "vl_infracoes_estado = autuacoes[['SIG_UF','VAL_AUTO_INFRACAO']].groupby('SIG_UF').sum().sort_values(by='VAL_AUTO_INFRACAO', ascending=False)\n",
        "vl_infracoes_estado"
      ],
      "execution_count": 6,
      "outputs": [
        {
          "output_type": "execute_result",
          "data": {
            "text/html": [
              "<div>\n",
              "<style scoped>\n",
              "    .dataframe tbody tr th:only-of-type {\n",
              "        vertical-align: middle;\n",
              "    }\n",
              "\n",
              "    .dataframe tbody tr th {\n",
              "        vertical-align: top;\n",
              "    }\n",
              "\n",
              "    .dataframe thead th {\n",
              "        text-align: right;\n",
              "    }\n",
              "</style>\n",
              "<table border=\"1\" class=\"dataframe\">\n",
              "  <thead>\n",
              "    <tr style=\"text-align: right;\">\n",
              "      <th></th>\n",
              "      <th>VAL_AUTO_INFRACAO</th>\n",
              "    </tr>\n",
              "    <tr>\n",
              "      <th>SIG_UF</th>\n",
              "      <th></th>\n",
              "    </tr>\n",
              "  </thead>\n",
              "  <tbody>\n",
              "    <tr>\n",
              "      <th>RO</th>\n",
              "      <td>1.608302e+09</td>\n",
              "    </tr>\n",
              "    <tr>\n",
              "      <th>PA</th>\n",
              "      <td>1.164029e+09</td>\n",
              "    </tr>\n",
              "    <tr>\n",
              "      <th>MT</th>\n",
              "      <td>4.003399e+08</td>\n",
              "    </tr>\n",
              "    <tr>\n",
              "      <th>AM</th>\n",
              "      <td>2.755090e+08</td>\n",
              "    </tr>\n",
              "    <tr>\n",
              "      <th>RJ</th>\n",
              "      <td>1.332018e+08</td>\n",
              "    </tr>\n",
              "    <tr>\n",
              "      <th>SP</th>\n",
              "      <td>1.324015e+08</td>\n",
              "    </tr>\n",
              "    <tr>\n",
              "      <th>DF</th>\n",
              "      <td>9.475243e+07</td>\n",
              "    </tr>\n",
              "    <tr>\n",
              "      <th>MG</th>\n",
              "      <td>6.786506e+07</td>\n",
              "    </tr>\n",
              "    <tr>\n",
              "      <th>MA</th>\n",
              "      <td>6.559365e+07</td>\n",
              "    </tr>\n",
              "    <tr>\n",
              "      <th>ES</th>\n",
              "      <td>5.233521e+07</td>\n",
              "    </tr>\n",
              "    <tr>\n",
              "      <th>RS</th>\n",
              "      <td>5.067783e+07</td>\n",
              "    </tr>\n",
              "    <tr>\n",
              "      <th>PR</th>\n",
              "      <td>4.609818e+07</td>\n",
              "    </tr>\n",
              "    <tr>\n",
              "      <th>TO</th>\n",
              "      <td>3.872235e+07</td>\n",
              "    </tr>\n",
              "    <tr>\n",
              "      <th>CE</th>\n",
              "      <td>3.769460e+07</td>\n",
              "    </tr>\n",
              "    <tr>\n",
              "      <th>GO</th>\n",
              "      <td>3.630842e+07</td>\n",
              "    </tr>\n",
              "    <tr>\n",
              "      <th>MS</th>\n",
              "      <td>2.956459e+07</td>\n",
              "    </tr>\n",
              "    <tr>\n",
              "      <th>BA</th>\n",
              "      <td>2.717819e+07</td>\n",
              "    </tr>\n",
              "    <tr>\n",
              "      <th>AC</th>\n",
              "      <td>2.210183e+07</td>\n",
              "    </tr>\n",
              "    <tr>\n",
              "      <th>SC</th>\n",
              "      <td>2.028185e+07</td>\n",
              "    </tr>\n",
              "    <tr>\n",
              "      <th>RR</th>\n",
              "      <td>1.817935e+07</td>\n",
              "    </tr>\n",
              "    <tr>\n",
              "      <th>RN</th>\n",
              "      <td>1.767904e+07</td>\n",
              "    </tr>\n",
              "    <tr>\n",
              "      <th>AL</th>\n",
              "      <td>1.136390e+07</td>\n",
              "    </tr>\n",
              "    <tr>\n",
              "      <th>PI</th>\n",
              "      <td>9.898636e+06</td>\n",
              "    </tr>\n",
              "    <tr>\n",
              "      <th>AP</th>\n",
              "      <td>6.274868e+06</td>\n",
              "    </tr>\n",
              "    <tr>\n",
              "      <th>SE</th>\n",
              "      <td>2.348564e+06</td>\n",
              "    </tr>\n",
              "    <tr>\n",
              "      <th>PE</th>\n",
              "      <td>2.321563e+06</td>\n",
              "    </tr>\n",
              "    <tr>\n",
              "      <th>PB</th>\n",
              "      <td>1.990260e+06</td>\n",
              "    </tr>\n",
              "  </tbody>\n",
              "</table>\n",
              "</div>"
            ],
            "text/plain": [
              "        VAL_AUTO_INFRACAO\n",
              "SIG_UF                   \n",
              "RO           1.608302e+09\n",
              "PA           1.164029e+09\n",
              "MT           4.003399e+08\n",
              "AM           2.755090e+08\n",
              "RJ           1.332018e+08\n",
              "SP           1.324015e+08\n",
              "DF           9.475243e+07\n",
              "MG           6.786506e+07\n",
              "MA           6.559365e+07\n",
              "ES           5.233521e+07\n",
              "RS           5.067783e+07\n",
              "PR           4.609818e+07\n",
              "TO           3.872235e+07\n",
              "CE           3.769460e+07\n",
              "GO           3.630842e+07\n",
              "MS           2.956459e+07\n",
              "BA           2.717819e+07\n",
              "AC           2.210183e+07\n",
              "SC           2.028185e+07\n",
              "RR           1.817935e+07\n",
              "RN           1.767904e+07\n",
              "AL           1.136390e+07\n",
              "PI           9.898636e+06\n",
              "AP           6.274868e+06\n",
              "SE           2.348564e+06\n",
              "PE           2.321563e+06\n",
              "PB           1.990260e+06"
            ]
          },
          "metadata": {},
          "execution_count": 6
        }
      ]
    },
    {
      "cell_type": "markdown",
      "metadata": {
        "id": "AHURR7SFnzQv"
      },
      "source": [
        "## **Autuações por bioma**"
      ]
    },
    {
      "cell_type": "code",
      "metadata": {
        "colab": {
          "base_uri": "https://localhost:8080/",
          "height": 324
        },
        "id": "FIoxuS1T-DLR",
        "outputId": "2af5a927-2d93-48bd-f543-19be9acb036d"
      },
      "source": [
        "autuacoes_bioma = autuacoes.BIOMA.value_counts().to_frame().reset_index().rename(columns={'index':'bioma','BIOMA':'qtd_autuacoes'})\n",
        "autuacoes_bioma"
      ],
      "execution_count": 7,
      "outputs": [
        {
          "output_type": "execute_result",
          "data": {
            "text/html": [
              "<div>\n",
              "<style scoped>\n",
              "    .dataframe tbody tr th:only-of-type {\n",
              "        vertical-align: middle;\n",
              "    }\n",
              "\n",
              "    .dataframe tbody tr th {\n",
              "        vertical-align: top;\n",
              "    }\n",
              "\n",
              "    .dataframe thead th {\n",
              "        text-align: right;\n",
              "    }\n",
              "</style>\n",
              "<table border=\"1\" class=\"dataframe\">\n",
              "  <thead>\n",
              "    <tr style=\"text-align: right;\">\n",
              "      <th></th>\n",
              "      <th>bioma</th>\n",
              "      <th>qtd_autuacoes</th>\n",
              "    </tr>\n",
              "  </thead>\n",
              "  <tbody>\n",
              "    <tr>\n",
              "      <th>0</th>\n",
              "      <td>Amazonia</td>\n",
              "      <td>4171</td>\n",
              "    </tr>\n",
              "    <tr>\n",
              "      <th>1</th>\n",
              "      <td>Mata Atlantica</td>\n",
              "      <td>2667</td>\n",
              "    </tr>\n",
              "    <tr>\n",
              "      <th>2</th>\n",
              "      <td>Cerrado</td>\n",
              "      <td>2075</td>\n",
              "    </tr>\n",
              "    <tr>\n",
              "      <th>3</th>\n",
              "      <td>Costeiro e Marinho</td>\n",
              "      <td>1565</td>\n",
              "    </tr>\n",
              "    <tr>\n",
              "      <th>4</th>\n",
              "      <td>Caatinga</td>\n",
              "      <td>1203</td>\n",
              "    </tr>\n",
              "    <tr>\n",
              "      <th>5</th>\n",
              "      <td>Pampa</td>\n",
              "      <td>163</td>\n",
              "    </tr>\n",
              "    <tr>\n",
              "      <th>6</th>\n",
              "      <td>Pantanal</td>\n",
              "      <td>98</td>\n",
              "    </tr>\n",
              "    <tr>\n",
              "      <th>7</th>\n",
              "      <td>Cerrado, Mata Atlantica</td>\n",
              "      <td>1</td>\n",
              "    </tr>\n",
              "    <tr>\n",
              "      <th>8</th>\n",
              "      <td>Caatinga, Cerrado</td>\n",
              "      <td>1</td>\n",
              "    </tr>\n",
              "  </tbody>\n",
              "</table>\n",
              "</div>"
            ],
            "text/plain": [
              "                     bioma  qtd_autuacoes\n",
              "0                 Amazonia           4171\n",
              "1           Mata Atlantica           2667\n",
              "2                  Cerrado           2075\n",
              "3       Costeiro e Marinho           1565\n",
              "4                 Caatinga           1203\n",
              "5                    Pampa            163\n",
              "6                 Pantanal             98\n",
              "7  Cerrado, Mata Atlantica              1\n",
              "8        Caatinga, Cerrado              1"
            ]
          },
          "metadata": {},
          "execution_count": 7
        }
      ]
    },
    {
      "cell_type": "markdown",
      "metadata": {
        "id": "-gdrqCR7n5aD"
      },
      "source": [
        "\n",
        "## **Cidades mais atingidas**"
      ]
    },
    {
      "cell_type": "code",
      "metadata": {
        "colab": {
          "base_uri": "https://localhost:8080/",
          "height": 414
        },
        "id": "t00_fnmQ-WFm",
        "outputId": "0f26f793-15b5-4b6b-ec1c-7b3dacd4a6be"
      },
      "source": [
        "infracoes_cidade = autuacoes.NOM_MUNICIPIO.value_counts().to_frame().reset_index().rename(columns={'index':'cidade','NOM_MUNICIPIO':'qtd_infracoes_cidade'})\n",
        "infracoes_cidade"
      ],
      "execution_count": 8,
      "outputs": [
        {
          "output_type": "execute_result",
          "data": {
            "text/html": [
              "<div>\n",
              "<style scoped>\n",
              "    .dataframe tbody tr th:only-of-type {\n",
              "        vertical-align: middle;\n",
              "    }\n",
              "\n",
              "    .dataframe tbody tr th {\n",
              "        vertical-align: top;\n",
              "    }\n",
              "\n",
              "    .dataframe thead th {\n",
              "        text-align: right;\n",
              "    }\n",
              "</style>\n",
              "<table border=\"1\" class=\"dataframe\">\n",
              "  <thead>\n",
              "    <tr style=\"text-align: right;\">\n",
              "      <th></th>\n",
              "      <th>cidade</th>\n",
              "      <th>qtd_infracoes_cidade</th>\n",
              "    </tr>\n",
              "  </thead>\n",
              "  <tbody>\n",
              "    <tr>\n",
              "      <th>0</th>\n",
              "      <td>Brasília</td>\n",
              "      <td>530</td>\n",
              "    </tr>\n",
              "    <tr>\n",
              "      <th>1</th>\n",
              "      <td>Altamira</td>\n",
              "      <td>195</td>\n",
              "    </tr>\n",
              "    <tr>\n",
              "      <th>2</th>\n",
              "      <td>Campinas</td>\n",
              "      <td>193</td>\n",
              "    </tr>\n",
              "    <tr>\n",
              "      <th>3</th>\n",
              "      <td>Fortaleza</td>\n",
              "      <td>190</td>\n",
              "    </tr>\n",
              "    <tr>\n",
              "      <th>4</th>\n",
              "      <td>São Félix do Xingu</td>\n",
              "      <td>177</td>\n",
              "    </tr>\n",
              "    <tr>\n",
              "      <th>...</th>\n",
              "      <td>...</td>\n",
              "      <td>...</td>\n",
              "    </tr>\n",
              "    <tr>\n",
              "      <th>1491</th>\n",
              "      <td>Praia Grande</td>\n",
              "      <td>1</td>\n",
              "    </tr>\n",
              "    <tr>\n",
              "      <th>1492</th>\n",
              "      <td>Mariana</td>\n",
              "      <td>1</td>\n",
              "    </tr>\n",
              "    <tr>\n",
              "      <th>1493</th>\n",
              "      <td>Lages</td>\n",
              "      <td>1</td>\n",
              "    </tr>\n",
              "    <tr>\n",
              "      <th>1494</th>\n",
              "      <td>São João da Varjota</td>\n",
              "      <td>1</td>\n",
              "    </tr>\n",
              "    <tr>\n",
              "      <th>1495</th>\n",
              "      <td>Craíbas</td>\n",
              "      <td>1</td>\n",
              "    </tr>\n",
              "  </tbody>\n",
              "</table>\n",
              "<p>1496 rows × 2 columns</p>\n",
              "</div>"
            ],
            "text/plain": [
              "                   cidade  qtd_infracoes_cidade\n",
              "0                Brasília                   530\n",
              "1                Altamira                   195\n",
              "2                Campinas                   193\n",
              "3               Fortaleza                   190\n",
              "4      São Félix do Xingu                   177\n",
              "...                   ...                   ...\n",
              "1491         Praia Grande                     1\n",
              "1492              Mariana                     1\n",
              "1493                Lages                     1\n",
              "1494  São João da Varjota                     1\n",
              "1495              Craíbas                     1\n",
              "\n",
              "[1496 rows x 2 columns]"
            ]
          },
          "metadata": {},
          "execution_count": 8
        }
      ]
    },
    {
      "cell_type": "markdown",
      "metadata": {
        "id": "SlZ_M4Mvn5dm"
      },
      "source": [
        "\n",
        "## **Qtd de autuações por mês**"
      ]
    },
    {
      "cell_type": "code",
      "metadata": {
        "colab": {
          "base_uri": "https://localhost:8080/",
          "height": 416
        },
        "id": "E-Z53I4pHyeJ",
        "outputId": "ed5fe440-3848-47c5-f1e1-aa1611c0b0f7"
      },
      "source": [
        "autuacoes['month'] = pd.DatetimeIndex(autuacoes['DAT_HORA_AUTO_INFRACAO']).month\n",
        "autuacoes_mes = autuacoes.month.value_counts().to_frame().reset_index().rename(columns = {\"index\" : \"mes\", \"month\" : \"qtd_autuacoes_mes\"}).astype(int)\n",
        "autuacoes_mes"
      ],
      "execution_count": 9,
      "outputs": [
        {
          "output_type": "execute_result",
          "data": {
            "text/html": [
              "<div>\n",
              "<style scoped>\n",
              "    .dataframe tbody tr th:only-of-type {\n",
              "        vertical-align: middle;\n",
              "    }\n",
              "\n",
              "    .dataframe tbody tr th {\n",
              "        vertical-align: top;\n",
              "    }\n",
              "\n",
              "    .dataframe thead th {\n",
              "        text-align: right;\n",
              "    }\n",
              "</style>\n",
              "<table border=\"1\" class=\"dataframe\">\n",
              "  <thead>\n",
              "    <tr style=\"text-align: right;\">\n",
              "      <th></th>\n",
              "      <th>mes</th>\n",
              "      <th>qtd_autuacoes_mes</th>\n",
              "    </tr>\n",
              "  </thead>\n",
              "  <tbody>\n",
              "    <tr>\n",
              "      <th>0</th>\n",
              "      <td>12</td>\n",
              "      <td>1631</td>\n",
              "    </tr>\n",
              "    <tr>\n",
              "      <th>1</th>\n",
              "      <td>11</td>\n",
              "      <td>1620</td>\n",
              "    </tr>\n",
              "    <tr>\n",
              "      <th>2</th>\n",
              "      <td>2</td>\n",
              "      <td>1371</td>\n",
              "    </tr>\n",
              "    <tr>\n",
              "      <th>3</th>\n",
              "      <td>10</td>\n",
              "      <td>1204</td>\n",
              "    </tr>\n",
              "    <tr>\n",
              "      <th>4</th>\n",
              "      <td>3</td>\n",
              "      <td>869</td>\n",
              "    </tr>\n",
              "    <tr>\n",
              "      <th>5</th>\n",
              "      <td>6</td>\n",
              "      <td>803</td>\n",
              "    </tr>\n",
              "    <tr>\n",
              "      <th>6</th>\n",
              "      <td>9</td>\n",
              "      <td>800</td>\n",
              "    </tr>\n",
              "    <tr>\n",
              "      <th>7</th>\n",
              "      <td>1</td>\n",
              "      <td>760</td>\n",
              "    </tr>\n",
              "    <tr>\n",
              "      <th>8</th>\n",
              "      <td>5</td>\n",
              "      <td>757</td>\n",
              "    </tr>\n",
              "    <tr>\n",
              "      <th>9</th>\n",
              "      <td>4</td>\n",
              "      <td>736</td>\n",
              "    </tr>\n",
              "    <tr>\n",
              "      <th>10</th>\n",
              "      <td>7</td>\n",
              "      <td>708</td>\n",
              "    </tr>\n",
              "    <tr>\n",
              "      <th>11</th>\n",
              "      <td>8</td>\n",
              "      <td>694</td>\n",
              "    </tr>\n",
              "  </tbody>\n",
              "</table>\n",
              "</div>"
            ],
            "text/plain": [
              "    mes  qtd_autuacoes_mes\n",
              "0    12               1631\n",
              "1    11               1620\n",
              "2     2               1371\n",
              "3    10               1204\n",
              "4     3                869\n",
              "5     6                803\n",
              "6     9                800\n",
              "7     1                760\n",
              "8     5                757\n",
              "9     4                736\n",
              "10    7                708\n",
              "11    8                694"
            ]
          },
          "metadata": {},
          "execution_count": 9
        }
      ]
    },
    {
      "cell_type": "code",
      "metadata": {
        "id": "cBnIT2TkOci5"
      },
      "source": [
        "#depois ver infratores do mês mais trágico"
      ],
      "execution_count": 10,
      "outputs": []
    },
    {
      "cell_type": "markdown",
      "metadata": {
        "id": "v8hp_GSnNAEj"
      },
      "source": [
        "## **TS autuações ambientais**"
      ]
    },
    {
      "cell_type": "code",
      "metadata": {
        "colab": {
          "base_uri": "https://localhost:8080/",
          "height": 294
        },
        "id": "P1WjC03HkDUW",
        "outputId": "0398a564-6d11-4a09-aa96-b654b8272985"
      },
      "source": [
        "import seaborn as sns\n",
        "import matplotlib.pyplot as plt\n",
        "\n",
        "autuacoes.DAT_HORA_AUTO_INFRACAO = pd.to_datetime(autuacoes['DAT_HORA_AUTO_INFRACAO']).dt.date\n",
        "ts_autuacoes = autuacoes.DAT_HORA_AUTO_INFRACAO.value_counts().to_frame().reset_index().rename(columns={'index':'dt', 'DAT_HORA_AUTO_INFRACAO': 'qtd_autuacoes_dt'})\n",
        "sns.lineplot(x=\"dt\", y=\"qtd_autuacoes_dt\", data=ts_autuacoes).set(xlabel=None, ylabel=None)\n",
        "plt.xticks(rotation=20)\n",
        "plt.title('Autuações ambientais realizadas pelo IBAMA entre 2019 e 2021')\n",
        "plt.show()"
      ],
      "execution_count": 11,
      "outputs": [
        {
          "output_type": "display_data",
          "data": {
            "image/png": "[encoded data removed]",
            "text/plain": [
              "<Figure size 432x288 with 1 Axes>"
            ]
          },
          "metadata": {
            "needs_background": "light"
          }
        }
      ]
    },
    {
      "cell_type": "markdown",
      "metadata": {
        "id": "jWf2metZn5gm"
      },
      "source": [
        "\n",
        "##   **Top10 maiores infratores**"
      ]
    },
    {
      "cell_type": "code",
      "metadata": {
        "colab": {
          "base_uri": "https://localhost:8080/",
          "height": 355
        },
        "id": "I9Xb4tasN23E",
        "outputId": "546011a1-d7dd-4905-db54-da760e9b4654"
      },
      "source": [
        "infratores = autuacoes.NOME_INFRATOR.value_counts()[:10].to_frame().reset_index().rename(columns={'index':'infrator','NOME_INFRATOR':'qtd_infracoes'})\n",
        "infratores\n",
        "#Petrobrás cometeu 228 infrações "
      ],
      "execution_count": 12,
      "outputs": [
        {
          "output_type": "execute_result",
          "data": {
            "text/html": [
              "<div>\n",
              "<style scoped>\n",
              "    .dataframe tbody tr th:only-of-type {\n",
              "        vertical-align: middle;\n",
              "    }\n",
              "\n",
              "    .dataframe tbody tr th {\n",
              "        vertical-align: top;\n",
              "    }\n",
              "\n",
              "    .dataframe thead th {\n",
              "        text-align: right;\n",
              "    }\n",
              "</style>\n",
              "<table border=\"1\" class=\"dataframe\">\n",
              "  <thead>\n",
              "    <tr style=\"text-align: right;\">\n",
              "      <th></th>\n",
              "      <th>infrator</th>\n",
              "      <th>qtd_infracoes</th>\n",
              "    </tr>\n",
              "  </thead>\n",
              "  <tbody>\n",
              "    <tr>\n",
              "      <th>0</th>\n",
              "      <td>PETROLEO BRASILEIRO S/A - PETROBRAS</td>\n",
              "      <td>148</td>\n",
              "    </tr>\n",
              "    <tr>\n",
              "      <th>1</th>\n",
              "      <td>ISMAEL COELHO</td>\n",
              "      <td>53</td>\n",
              "    </tr>\n",
              "    <tr>\n",
              "      <th>2</th>\n",
              "      <td>PETROBRAS - PETROLEO BRASILEIRO S.A.</td>\n",
              "      <td>52</td>\n",
              "    </tr>\n",
              "    <tr>\n",
              "      <th>3</th>\n",
              "      <td>GILSON ALCIDES DE JESUS</td>\n",
              "      <td>35</td>\n",
              "    </tr>\n",
              "    <tr>\n",
              "      <th>4</th>\n",
              "      <td>ROGÉRIO LIMA COIMBRA</td>\n",
              "      <td>30</td>\n",
              "    </tr>\n",
              "    <tr>\n",
              "      <th>5</th>\n",
              "      <td>PETROBRAS S.A. / E&amp;P UN-RIO</td>\n",
              "      <td>28</td>\n",
              "    </tr>\n",
              "    <tr>\n",
              "      <th>6</th>\n",
              "      <td>GUILHERME GALVANE BATISTA</td>\n",
              "      <td>21</td>\n",
              "    </tr>\n",
              "    <tr>\n",
              "      <th>7</th>\n",
              "      <td>BALSA MUNDO SERRARIA E PLANTIO LTDA</td>\n",
              "      <td>21</td>\n",
              "    </tr>\n",
              "    <tr>\n",
              "      <th>8</th>\n",
              "      <td>RAINBOW DEFENSIVOS AGRÍCOLAS LTDA</td>\n",
              "      <td>19</td>\n",
              "    </tr>\n",
              "    <tr>\n",
              "      <th>9</th>\n",
              "      <td>RODRIGO SOUZA FERNANDES RANGEL</td>\n",
              "      <td>13</td>\n",
              "    </tr>\n",
              "  </tbody>\n",
              "</table>\n",
              "</div>"
            ],
            "text/plain": [
              "                               infrator  qtd_infracoes\n",
              "0   PETROLEO BRASILEIRO S/A - PETROBRAS            148\n",
              "1                         ISMAEL COELHO             53\n",
              "2  PETROBRAS - PETROLEO BRASILEIRO S.A.             52\n",
              "3               GILSON ALCIDES DE JESUS             35\n",
              "4                  ROGÉRIO LIMA COIMBRA             30\n",
              "5           PETROBRAS S.A. / E&P UN-RIO             28\n",
              "6             GUILHERME GALVANE BATISTA             21\n",
              "7   BALSA MUNDO SERRARIA E PLANTIO LTDA             21\n",
              "8     RAINBOW DEFENSIVOS AGRÍCOLAS LTDA             19\n",
              "9        RODRIGO SOUZA FERNANDES RANGEL             13"
            ]
          },
          "metadata": {},
          "execution_count": 12
        }
      ]
    },
    {
      "cell_type": "markdown",
      "metadata": {
        "id": "k00YjTYEn5nt"
      },
      "source": [
        "##   **Tipos de infração do maior infrator**"
      ]
    },
    {
      "cell_type": "code",
      "metadata": {
        "id": "hTE7nuxuXElS"
      },
      "source": [
        "petrobras = autuacoes[autuacoes.NOME_INFRATOR.eq('PETROLEO BRASILEIRO S/A - PETROBRAS') | \n",
        "                                     autuacoes.NOME_INFRATOR.eq('PETROBRAS - PETROLEO BRASILEIRO S.A.') | \n",
        "                                     autuacoes.NOME_INFRATOR.eq('PETROBRAS S.A. / E&P UN-RIO')]"
      ],
      "execution_count": 13,
      "outputs": []
    },
    {
      "cell_type": "code",
      "metadata": {
        "colab": {
          "base_uri": "https://localhost:8080/"
        },
        "id": "Z4jwE7THZRBQ",
        "outputId": "9e547e48-6e57-43f5-d17c-8c6fda25a08d"
      },
      "source": [
        "autuacoes[autuacoes.NOME_INFRATOR.eq('PETROLEO BRASILEIRO S/A - PETROBRAS')].NOM_MUNICIPIO.value_counts()"
      ],
      "execution_count": 14,
      "outputs": [
        {
          "output_type": "execute_result",
          "data": {
            "text/plain": [
              "Rio de Janeiro           58\n",
              "Macaé                    26\n",
              "Campos dos Goytacazes    24\n",
              "Santos                    8\n",
              "Marataízes                8\n",
              "Presidente Kennedy        6\n",
              "Vitória                   4\n",
              "Brasília                  3\n",
              "Anchieta                  3\n",
              "Fortaleza                 2\n",
              "Aracruz                   2\n",
              "São Mateus                1\n",
              "Cananéia                  1\n",
              "Itapemirim                1\n",
              "Rio das Ostras            1\n",
              "Name: NOM_MUNICIPIO, dtype: int64"
            ]
          },
          "metadata": {},
          "execution_count": 14
        }
      ]
    },
    {
      "cell_type": "code",
      "metadata": {
        "colab": {
          "base_uri": "https://localhost:8080/"
        },
        "id": "Jv_a91VAOymn",
        "outputId": "fb3b1904-1e1b-4efe-93a0-2389d67fb3d0"
      },
      "source": [
        "tipos_infracoes_petrobras = petrobras.NO_TIPO_INFRACAO.value_counts()\n",
        "tipos_infracoes_petrobras"
      ],
      "execution_count": 15,
      "outputs": [
        {
          "output_type": "execute_result",
          "data": {
            "text/plain": [
              "Emergência Ambiental    91\n",
              "Controle Ambiental      79\n",
              "Licenciamento           48\n",
              "Qualidade Ambiental      9\n",
              "Outras                   1\n",
              "Name: NO_TIPO_INFRACAO, dtype: int64"
            ]
          },
          "metadata": {},
          "execution_count": 15
        }
      ]
    },
    {
      "cell_type": "code",
      "metadata": {
        "colab": {
          "base_uri": "https://localhost:8080/"
        },
        "id": "z-0B5gHQXO-i",
        "outputId": "5cf0d0b1-0871-4572-fb06-7c83d0468ca5"
      },
      "source": [
        "petrobras.VAL_AUTO_INFRACAO.sum()"
      ],
      "execution_count": 16,
      "outputs": [
        {
          "output_type": "execute_result",
          "data": {
            "text/plain": [
              "172268650.0"
            ]
          },
          "metadata": {},
          "execution_count": 16
        }
      ]
    },
    {
      "cell_type": "code",
      "metadata": {
        "colab": {
          "base_uri": "https://localhost:8080/",
          "height": 294
        },
        "id": "V6LkkuYvXX2-",
        "outputId": "37d59285-324d-4ae8-cf45-f2ad3ddcf6ff"
      },
      "source": [
        "ts_autuacoes_petro = petrobras.DAT_HORA_AUTO_INFRACAO.value_counts().to_frame().reset_index().rename(columns={'index':'dt', 'DAT_HORA_AUTO_INFRACAO': 'qtd_autuacoes_dt'})\n",
        "sns.lineplot(x=\"dt\", y=\"qtd_autuacoes_dt\", data=ts_autuacoes_petro).set(xlabel=None, ylabel=None)\n",
        "plt.xticks(rotation=20)\n",
        "plt.title('Infrações cometidas pela Petrobrás entre 2019 e 2021')\n",
        "plt.show()"
      ],
      "execution_count": 17,
      "outputs": [
        {
          "output_type": "display_data",
          "data": {
            "image/png": "[encoded data removed]",
            "text/plain": [
              "<Figure size 432x288 with 1 Axes>"
            ]
          },
          "metadata": {
            "needs_background": "light"
          }
        }
      ]
    },
    {
      "cell_type": "code",
      "metadata": {
        "id": "1n405twdeAIP"
      },
      "source": [
        "#ver depois se a petrobras pagou as multas (status)"
      ],
      "execution_count": 18,
      "outputs": []
    },
    {
      "cell_type": "markdown",
      "metadata": {
        "id": "hyNSJOUGn5sw"
      },
      "source": [
        "\n",
        "##  **Top10 tipos de infrações**"
      ]
    },
    {
      "cell_type": "code",
      "metadata": {
        "id": "3GtZU-GeoMea",
        "colab": {
          "base_uri": "https://localhost:8080/",
          "height": 355
        },
        "outputId": "020cf30e-d12c-4d64-edd0-b0bebe8bddb9"
      },
      "source": [
        "tipos_infracoes = autuacoes.NO_TIPO_INFRACAO.value_counts()[:10].to_frame().reset_index().rename(columns={'index':'infracao','NO_TIPO_INFRACAO':'qtd_infracoes'})\n",
        "tipos_infracoes\n",
        "#52.6% das Emergências Ambientais entre 2019 e 2021 foram cometidas pela Petrobrás"
      ],
      "execution_count": 19,
      "outputs": [
        {
          "output_type": "execute_result",
          "data": {
            "text/html": [
              "<div>\n",
              "<style scoped>\n",
              "    .dataframe tbody tr th:only-of-type {\n",
              "        vertical-align: middle;\n",
              "    }\n",
              "\n",
              "    .dataframe tbody tr th {\n",
              "        vertical-align: top;\n",
              "    }\n",
              "\n",
              "    .dataframe thead th {\n",
              "        text-align: right;\n",
              "    }\n",
              "</style>\n",
              "<table border=\"1\" class=\"dataframe\">\n",
              "  <thead>\n",
              "    <tr style=\"text-align: right;\">\n",
              "      <th></th>\n",
              "      <th>infracao</th>\n",
              "      <th>qtd_infracoes</th>\n",
              "    </tr>\n",
              "  </thead>\n",
              "  <tbody>\n",
              "    <tr>\n",
              "      <th>0</th>\n",
              "      <td>Flora</td>\n",
              "      <td>4341</td>\n",
              "    </tr>\n",
              "    <tr>\n",
              "      <th>1</th>\n",
              "      <td>Fauna</td>\n",
              "      <td>1961</td>\n",
              "    </tr>\n",
              "    <tr>\n",
              "      <th>2</th>\n",
              "      <td>Administração Ambiental</td>\n",
              "      <td>1309</td>\n",
              "    </tr>\n",
              "    <tr>\n",
              "      <th>3</th>\n",
              "      <td>Cadastro Técnico Federal</td>\n",
              "      <td>1156</td>\n",
              "    </tr>\n",
              "    <tr>\n",
              "      <th>4</th>\n",
              "      <td>Pesca</td>\n",
              "      <td>949</td>\n",
              "    </tr>\n",
              "    <tr>\n",
              "      <th>5</th>\n",
              "      <td>Qualidade Ambiental</td>\n",
              "      <td>758</td>\n",
              "    </tr>\n",
              "    <tr>\n",
              "      <th>6</th>\n",
              "      <td>Licenciamento</td>\n",
              "      <td>536</td>\n",
              "    </tr>\n",
              "    <tr>\n",
              "      <th>7</th>\n",
              "      <td>Controle Ambiental</td>\n",
              "      <td>372</td>\n",
              "    </tr>\n",
              "    <tr>\n",
              "      <th>8</th>\n",
              "      <td>Outras</td>\n",
              "      <td>208</td>\n",
              "    </tr>\n",
              "    <tr>\n",
              "      <th>9</th>\n",
              "      <td>Emergência Ambiental</td>\n",
              "      <td>173</td>\n",
              "    </tr>\n",
              "  </tbody>\n",
              "</table>\n",
              "</div>"
            ],
            "text/plain": [
              "                   infracao  qtd_infracoes\n",
              "0                     Flora           4341\n",
              "1                     Fauna           1961\n",
              "2   Administração Ambiental           1309\n",
              "3  Cadastro Técnico Federal           1156\n",
              "4                     Pesca            949\n",
              "5       Qualidade Ambiental            758\n",
              "6             Licenciamento            536\n",
              "7        Controle Ambiental            372\n",
              "8                    Outras            208\n",
              "9      Emergência Ambiental            173"
            ]
          },
          "metadata": {},
          "execution_count": 19
        }
      ]
    },
    {
      "cell_type": "code",
      "metadata": {
        "colab": {
          "base_uri": "https://localhost:8080/"
        },
        "id": "ET_uljd3a7i5",
        "outputId": "5607e639-a77a-4a71-cbf7-51efed5ae965"
      },
      "source": [
        "#maiores infratores da flora\n",
        "autuacoes[['NOME_INFRATOR','NO_TIPO_INFRACAO']].groupby(autuacoes['NO_TIPO_INFRACAO']).get_group('Flora').NOME_INFRATOR.value_counts()\n",
        "\n",
        "# ler depois sobre GUILHERME GALVANE BATISTA https://noticias.uol.com.br/colunas/rubens-valente/2021/03/14/multas-ambientais-governo-bolsonaro-supremo-tribunal.htm "
      ],
      "execution_count": 20,
      "outputs": [
        {
          "output_type": "execute_result",
          "data": {
            "text/plain": [
              "GUILHERME GALVANE BATISTA              21\n",
              "BALSA MUNDO SERRARIA E PLANTIO LTDA    20\n",
              "Amaggi Exportação e Importação LTDA    11\n",
              "Juliano Clemente Oliveira               9\n",
              "IPEZAI COMERCIO DE MADEIRAS LTDA        8\n",
              "                                       ..\n",
              "AGROPECUÁRIA MILLENIUM LTDA             1\n",
              "LUCAS VIEIRA AUGUSTO DOS SANTOS         1\n",
              "Edinette Alves Campos                   1\n",
              "JOSÉ VALENTINO DA SILVA                 1\n",
              "Luiz Rodrigues dos Santos               1\n",
              "Name: NOME_INFRATOR, Length: 3517, dtype: int64"
            ]
          },
          "metadata": {},
          "execution_count": 20
        }
      ]
    },
    {
      "cell_type": "markdown",
      "metadata": {
        "id": "Dw4B3echn5wa"
      },
      "source": [
        "\n",
        "##  **Quais infratores tiveram as infrações mais caras?**"
      ]
    },
    {
      "cell_type": "code",
      "metadata": {
        "colab": {
          "base_uri": "https://localhost:8080/",
          "height": 355
        },
        "id": "0z_3mvQzTys4",
        "outputId": "006a3821-8ba9-4c7b-b684-be8a9ca7ee2e"
      },
      "source": [
        "autuacoes[['NOME_INFRATOR','VAL_AUTO_INFRACAO','DES_INFRACAO']].sort_values(by='VAL_AUTO_INFRACAO', ascending=False)[:10]"
      ],
      "execution_count": 21,
      "outputs": [
        {
          "output_type": "execute_result",
          "data": {
            "text/html": [
              "<div>\n",
              "<style scoped>\n",
              "    .dataframe tbody tr th:only-of-type {\n",
              "        vertical-align: middle;\n",
              "    }\n",
              "\n",
              "    .dataframe tbody tr th {\n",
              "        vertical-align: top;\n",
              "    }\n",
              "\n",
              "    .dataframe thead th {\n",
              "        text-align: right;\n",
              "    }\n",
              "</style>\n",
              "<table border=\"1\" class=\"dataframe\">\n",
              "  <thead>\n",
              "    <tr style=\"text-align: right;\">\n",
              "      <th></th>\n",
              "      <th>NOME_INFRATOR</th>\n",
              "      <th>VAL_AUTO_INFRACAO</th>\n",
              "      <th>DES_INFRACAO</th>\n",
              "    </tr>\n",
              "  </thead>\n",
              "  <tbody>\n",
              "    <tr>\n",
              "      <th>7733</th>\n",
              "      <td>VOLKSWAGEN DO BRASIL INDUSTRIA DE VEICULOS AUT...</td>\n",
              "      <td>50000000.0</td>\n",
              "      <td>Infração referente a Qualidade Ambiental(Não C...</td>\n",
              "    </tr>\n",
              "    <tr>\n",
              "      <th>7734</th>\n",
              "      <td>VOLKSWAGEN DO BRASIL INDUSTRIA DE VEICULOS AUT...</td>\n",
              "      <td>50000000.0</td>\n",
              "      <td>Infração referente a Qualidade Ambiental(Não C...</td>\n",
              "    </tr>\n",
              "    <tr>\n",
              "      <th>2811</th>\n",
              "      <td>SALOBO METAIS S.A</td>\n",
              "      <td>50000000.0</td>\n",
              "      <td>Infração de Licenciamento(Não Classificada-Móvel)</td>\n",
              "    </tr>\n",
              "    <tr>\n",
              "      <th>7385</th>\n",
              "      <td>EDIO NOGUEIRA</td>\n",
              "      <td>50000000.0</td>\n",
              "      <td>Infração da Flora(Não Classificada-Móvel)</td>\n",
              "    </tr>\n",
              "    <tr>\n",
              "      <th>1994</th>\n",
              "      <td>DANIEL MESSAC DE MORAIS</td>\n",
              "      <td>50000000.0</td>\n",
              "      <td>Infração da Flora(Não Classificada-Móvel)</td>\n",
              "    </tr>\n",
              "    <tr>\n",
              "      <th>1733</th>\n",
              "      <td>GUILHERME GALVANE BATISTA</td>\n",
              "      <td>47530000.0</td>\n",
              "      <td>Infração da Flora(Não Classificada-Móvel)</td>\n",
              "    </tr>\n",
              "    <tr>\n",
              "      <th>1746</th>\n",
              "      <td>BUNGE ALIMENTOS SA</td>\n",
              "      <td>47530000.0</td>\n",
              "      <td>Infração da Flora(Não Classificada-Móvel)</td>\n",
              "    </tr>\n",
              "    <tr>\n",
              "      <th>1743</th>\n",
              "      <td>GUILHERME GALVANE BATISTA</td>\n",
              "      <td>47510000.0</td>\n",
              "      <td>Infração da Flora(Não Classificada-Móvel)</td>\n",
              "    </tr>\n",
              "    <tr>\n",
              "      <th>1745</th>\n",
              "      <td>BUNGE ALIMENTOS SA</td>\n",
              "      <td>47510000.0</td>\n",
              "      <td>Infração da Flora(Não Classificada-Móvel)</td>\n",
              "    </tr>\n",
              "    <tr>\n",
              "      <th>1747</th>\n",
              "      <td>Amaggi Exportação e Importação LTDA</td>\n",
              "      <td>46625000.0</td>\n",
              "      <td>Infração da Flora(Não Classificada-Móvel)</td>\n",
              "    </tr>\n",
              "  </tbody>\n",
              "</table>\n",
              "</div>"
            ],
            "text/plain": [
              "                                          NOME_INFRATOR  ...                                       DES_INFRACAO\n",
              "7733  VOLKSWAGEN DO BRASIL INDUSTRIA DE VEICULOS AUT...  ...  Infração referente a Qualidade Ambiental(Não C...\n",
              "7734  VOLKSWAGEN DO BRASIL INDUSTRIA DE VEICULOS AUT...  ...  Infração referente a Qualidade Ambiental(Não C...\n",
              "2811                                  SALOBO METAIS S.A  ...  Infração de Licenciamento(Não Classificada-Móvel)\n",
              "7385                                      EDIO NOGUEIRA  ...          Infração da Flora(Não Classificada-Móvel)\n",
              "1994                            DANIEL MESSAC DE MORAIS  ...          Infração da Flora(Não Classificada-Móvel)\n",
              "1733                          GUILHERME GALVANE BATISTA  ...          Infração da Flora(Não Classificada-Móvel)\n",
              "1746                                 BUNGE ALIMENTOS SA  ...          Infração da Flora(Não Classificada-Móvel)\n",
              "1743                          GUILHERME GALVANE BATISTA  ...          Infração da Flora(Não Classificada-Móvel)\n",
              "1745                                 BUNGE ALIMENTOS SA  ...          Infração da Flora(Não Classificada-Móvel)\n",
              "1747                Amaggi Exportação e Importação LTDA  ...          Infração da Flora(Não Classificada-Móvel)\n",
              "\n",
              "[10 rows x 3 columns]"
            ]
          },
          "metadata": {},
          "execution_count": 21
        }
      ]
    },
    {
      "cell_type": "markdown",
      "metadata": {
        "id": "yknEqYnhoGhS"
      },
      "source": [
        "\n",
        "##   **Infrações por gravidade**"
      ]
    },
    {
      "cell_type": "code",
      "metadata": {
        "colab": {
          "base_uri": "https://localhost:8080/"
        },
        "id": "KK2URwR4eUKC",
        "outputId": "21a93979-bc9a-4e26-bf85-62a5de09b8ea"
      },
      "source": [
        "autuacoes.GRAVIDADE_INFRACAO.value_counts()"
      ],
      "execution_count": 22,
      "outputs": [
        {
          "output_type": "execute_result",
          "data": {
            "text/plain": [
              "Baixa    1077\n",
              "Média     613\n",
              "Médio       7\n",
              "Leve        4\n",
              "Name: GRAVIDADE_INFRACAO, dtype: int64"
            ]
          },
          "metadata": {},
          "execution_count": 22
        }
      ]
    }
  ]
}